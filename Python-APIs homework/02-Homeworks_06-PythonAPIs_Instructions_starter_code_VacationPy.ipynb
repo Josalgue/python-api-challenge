{
 "cells": [
  {
   "cell_type": "markdown",
   "metadata": {},
   "source": [
    "# VacationPy\n",
    "----\n",
    "\n",
    "#### Note\n",
    "* Instructions have been included for each segment. You do not have to follow them exactly, but they are included to help you think through the steps."
   ]
  },
  {
   "cell_type": "code",
   "execution_count": 1,
   "metadata": {},
   "outputs": [],
   "source": [
    "# Dependencies and Setup\n",
    "import matplotlib.pyplot as plt\n",
    "import pandas as pd\n",
    "import numpy as np\n",
    "import requests\n",
    "import gmaps\n",
    "import os\n",
    "\n",
    "# Import API key\n",
    "from api_keys import g_key\n"
   ]
  },
  {
   "cell_type": "markdown",
   "metadata": {},
   "source": [
    "### Store Part I results into DataFrame\n",
    "* Load the csv exported in Part I to a DataFrame"
   ]
  },
  {
   "cell_type": "code",
   "execution_count": 8,
   "metadata": {},
   "outputs": [
    {
     "data": {
      "text/html": [
       "<div>\n",
       "<style scoped>\n",
       "    .dataframe tbody tr th:only-of-type {\n",
       "        vertical-align: middle;\n",
       "    }\n",
       "\n",
       "    .dataframe tbody tr th {\n",
       "        vertical-align: top;\n",
       "    }\n",
       "\n",
       "    .dataframe thead th {\n",
       "        text-align: right;\n",
       "    }\n",
       "</style>\n",
       "<table border=\"1\" class=\"dataframe\">\n",
       "  <thead>\n",
       "    <tr style=\"text-align: right;\">\n",
       "      <th></th>\n",
       "      <th>City</th>\n",
       "      <th>Cloudiness</th>\n",
       "      <th>Country</th>\n",
       "      <th>Date</th>\n",
       "      <th>Humidity</th>\n",
       "      <th>Lat</th>\n",
       "      <th>Lng</th>\n",
       "      <th>Max Temp</th>\n",
       "      <th>Windspeed</th>\n",
       "    </tr>\n",
       "  </thead>\n",
       "  <tbody>\n",
       "    <tr>\n",
       "      <th>0</th>\n",
       "      <td>vangaindrano</td>\n",
       "      <td>0</td>\n",
       "      <td>NaN</td>\n",
       "      <td>1603761708</td>\n",
       "      <td>88</td>\n",
       "      <td>-23.35</td>\n",
       "      <td>47.60</td>\n",
       "      <td>66.63</td>\n",
       "      <td>4.29</td>\n",
       "    </tr>\n",
       "    <tr>\n",
       "      <th>1</th>\n",
       "      <td>kapaa</td>\n",
       "      <td>75</td>\n",
       "      <td>NaN</td>\n",
       "      <td>1603761603</td>\n",
       "      <td>78</td>\n",
       "      <td>22.08</td>\n",
       "      <td>-159.32</td>\n",
       "      <td>75.20</td>\n",
       "      <td>16.11</td>\n",
       "    </tr>\n",
       "    <tr>\n",
       "      <th>2</th>\n",
       "      <td>hay river</td>\n",
       "      <td>90</td>\n",
       "      <td>NaN</td>\n",
       "      <td>1603761708</td>\n",
       "      <td>100</td>\n",
       "      <td>60.82</td>\n",
       "      <td>-115.80</td>\n",
       "      <td>24.80</td>\n",
       "      <td>9.17</td>\n",
       "    </tr>\n",
       "    <tr>\n",
       "      <th>3</th>\n",
       "      <td>rikitea</td>\n",
       "      <td>100</td>\n",
       "      <td>NaN</td>\n",
       "      <td>1603761709</td>\n",
       "      <td>87</td>\n",
       "      <td>-23.12</td>\n",
       "      <td>-134.97</td>\n",
       "      <td>75.31</td>\n",
       "      <td>13.44</td>\n",
       "    </tr>\n",
       "    <tr>\n",
       "      <th>4</th>\n",
       "      <td>victoria</td>\n",
       "      <td>63</td>\n",
       "      <td>NaN</td>\n",
       "      <td>1603761438</td>\n",
       "      <td>68</td>\n",
       "      <td>22.29</td>\n",
       "      <td>114.16</td>\n",
       "      <td>78.01</td>\n",
       "      <td>3.00</td>\n",
       "    </tr>\n",
       "    <tr>\n",
       "      <th>5</th>\n",
       "      <td>ashland</td>\n",
       "      <td>90</td>\n",
       "      <td>NaN</td>\n",
       "      <td>1603761416</td>\n",
       "      <td>93</td>\n",
       "      <td>40.82</td>\n",
       "      <td>-82.27</td>\n",
       "      <td>44.60</td>\n",
       "      <td>5.82</td>\n",
       "    </tr>\n",
       "    <tr>\n",
       "      <th>6</th>\n",
       "      <td>ushuaia</td>\n",
       "      <td>20</td>\n",
       "      <td>NaN</td>\n",
       "      <td>1603761710</td>\n",
       "      <td>34</td>\n",
       "      <td>-54.80</td>\n",
       "      <td>-68.30</td>\n",
       "      <td>50.00</td>\n",
       "      <td>16.11</td>\n",
       "    </tr>\n",
       "    <tr>\n",
       "      <th>7</th>\n",
       "      <td>thompson</td>\n",
       "      <td>5</td>\n",
       "      <td>NaN</td>\n",
       "      <td>1603761710</td>\n",
       "      <td>57</td>\n",
       "      <td>55.74</td>\n",
       "      <td>-97.86</td>\n",
       "      <td>23.00</td>\n",
       "      <td>6.93</td>\n",
       "    </tr>\n",
       "    <tr>\n",
       "      <th>8</th>\n",
       "      <td>puerto ayora</td>\n",
       "      <td>43</td>\n",
       "      <td>NaN</td>\n",
       "      <td>1603761710</td>\n",
       "      <td>92</td>\n",
       "      <td>-0.74</td>\n",
       "      <td>-90.35</td>\n",
       "      <td>68.00</td>\n",
       "      <td>1.99</td>\n",
       "    </tr>\n",
       "    <tr>\n",
       "      <th>9</th>\n",
       "      <td>ambon</td>\n",
       "      <td>40</td>\n",
       "      <td>NaN</td>\n",
       "      <td>1603761711</td>\n",
       "      <td>70</td>\n",
       "      <td>-3.70</td>\n",
       "      <td>128.18</td>\n",
       "      <td>87.80</td>\n",
       "      <td>3.36</td>\n",
       "    </tr>\n",
       "  </tbody>\n",
       "</table>\n",
       "</div>"
      ],
      "text/plain": [
       "           City  Cloudiness  Country        Date  Humidity    Lat     Lng  \\\n",
       "0  vangaindrano           0      NaN  1603761708        88 -23.35   47.60   \n",
       "1         kapaa          75      NaN  1603761603        78  22.08 -159.32   \n",
       "2     hay river          90      NaN  1603761708       100  60.82 -115.80   \n",
       "3       rikitea         100      NaN  1603761709        87 -23.12 -134.97   \n",
       "4      victoria          63      NaN  1603761438        68  22.29  114.16   \n",
       "5       ashland          90      NaN  1603761416        93  40.82  -82.27   \n",
       "6       ushuaia          20      NaN  1603761710        34 -54.80  -68.30   \n",
       "7      thompson           5      NaN  1603761710        57  55.74  -97.86   \n",
       "8  puerto ayora          43      NaN  1603761710        92  -0.74  -90.35   \n",
       "9         ambon          40      NaN  1603761711        70  -3.70  128.18   \n",
       "\n",
       "   Max Temp  Windspeed  \n",
       "0     66.63       4.29  \n",
       "1     75.20      16.11  \n",
       "2     24.80       9.17  \n",
       "3     75.31      13.44  \n",
       "4     78.01       3.00  \n",
       "5     44.60       5.82  \n",
       "6     50.00      16.11  \n",
       "7     23.00       6.93  \n",
       "8     68.00       1.99  \n",
       "9     87.80       3.36  "
      ]
     },
     "execution_count": 8,
     "metadata": {},
     "output_type": "execute_result"
    }
   ],
   "source": [
    "weather_df = pd.read_csv(\"Output/CityWeatherData.csv\")\n",
    "\n",
    "weather_df.head(10)"
   ]
  },
  {
   "cell_type": "markdown",
   "metadata": {},
   "source": [
    "### Humidity Heatmap\n",
    "* Configure gmaps.\n",
    "* Use the Lat and Lng as locations and Humidity as the weight.\n",
    "* Add Heatmap layer to map."
   ]
  },
  {
   "cell_type": "code",
   "execution_count": null,
   "metadata": {},
   "outputs": [],
   "source": [
    "\n"
   ]
  },
  {
   "cell_type": "code",
   "execution_count": null,
   "metadata": {},
   "outputs": [],
   "source": [
    "\n"
   ]
  },
  {
   "cell_type": "markdown",
   "metadata": {},
   "source": [
    "### Create new DataFrame fitting weather criteria\n",
    "* Narrow down the cities to fit weather conditions.\n",
    "* Drop any rows will null values."
   ]
  },
  {
   "cell_type": "code",
   "execution_count": null,
   "metadata": {},
   "outputs": [],
   "source": []
  },
  {
   "cell_type": "markdown",
   "metadata": {},
   "source": [
    "### Hotel Map\n",
    "* Store into variable named `hotel_df`.\n",
    "* Add a \"Hotel Name\" column to the DataFrame.\n",
    "* Set parameters to search for hotels with 5000 meters.\n",
    "* Hit the Google Places API for each city's coordinates.\n",
    "* Store the first Hotel result into the DataFrame.\n",
    "* Plot markers on top of the heatmap."
   ]
  },
  {
   "cell_type": "code",
   "execution_count": null,
   "metadata": {},
   "outputs": [],
   "source": []
  },
  {
   "cell_type": "code",
   "execution_count": null,
   "metadata": {},
   "outputs": [],
   "source": []
  },
  {
   "cell_type": "code",
   "execution_count": null,
   "metadata": {},
   "outputs": [],
   "source": [
    "\n"
   ]
  },
  {
   "cell_type": "code",
   "execution_count": null,
   "metadata": {},
   "outputs": [],
   "source": [
    "# NOTE: Do not change any of the code in this cell\n",
    "\n",
    "# Using the template add the hotel marks to the heatmap\n",
    "info_box_template = \"\"\"\n",
    "<dl>\n",
    "<dt>Name</dt><dd>{Hotel Name}</dd>\n",
    "<dt>City</dt><dd>{City}</dd>\n",
    "<dt>Country</dt><dd>{Country}</dd>\n",
    "</dl>\n",
    "\"\"\"\n",
    "# Store the DataFrame Row\n",
    "# NOTE: be sure to update with your DataFrame name\n",
    "hotel_info = [info_box_template.format(**row) for index, row in narrowed_city_df.iterrows()]\n",
    "locations = hotel_df[[\"Lat\", \"Lng\"]]"
   ]
  },
  {
   "cell_type": "code",
   "execution_count": null,
   "metadata": {},
   "outputs": [],
   "source": [
    "# Add marker layer ontop of heat map\n",
    "\n",
    "\n",
    "# Display Map"
   ]
  }
 ],
 "metadata": {
  "kernelspec": {
   "display_name": "Python 3",
   "language": "python",
   "name": "python3"
  },
  "language_info": {
   "codemirror_mode": {
    "name": "ipython",
    "version": 3
   },
   "file_extension": ".py",
   "mimetype": "text/x-python",
   "name": "python",
   "nbconvert_exporter": "python",
   "pygments_lexer": "ipython3",
   "version": "3.8.3"
  },
  "latex_envs": {
   "LaTeX_envs_menu_present": true,
   "autoclose": false,
   "autocomplete": true,
   "bibliofile": "biblio.bib",
   "cite_by": "apalike",
   "current_citInitial": 1,
   "eqLabelWithNumbers": true,
   "eqNumInitial": 1,
   "hotkeys": {
    "equation": "Ctrl-E",
    "itemize": "Ctrl-I"
   },
   "labels_anchors": false,
   "latex_user_defs": false,
   "report_style_numbering": false,
   "user_envs_cfg": false
  }
 },
 "nbformat": 4,
 "nbformat_minor": 2
}
